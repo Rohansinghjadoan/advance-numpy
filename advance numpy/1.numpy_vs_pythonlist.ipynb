{
 "cells": [
  {
   "cell_type": "markdown",
   "metadata": {},
   "source": [
    "# Numpy vs python list"
   ]
  },
  {
   "cell_type": "markdown",
   "metadata": {},
   "source": [
    "### 1.speed"
   ]
  },
  {
   "cell_type": "code",
   "execution_count": 1,
   "metadata": {},
   "outputs": [
    {
     "name": "stdout",
     "output_type": "stream",
     "text": [
      "python list0.0704030990600586\n",
      "numpyarray0.006630897521972656\n"
     ]
    }
   ],
   "source": [
    "## speed\n",
    "## list\n",
    "a=[i for i in range(1000000)]\n",
    "b=[i for i in range (1000000,2000000)]\n",
    "c=[]\n",
    "import time\n",
    "start=time.time()\n",
    "for i in range(len(a)):\n",
    "    c.append(a[i]+b[i])\n",
    "print(\"python list\" + str(time.time()-start))\n",
    "\n",
    "# numpy\n",
    "import numpy as np\n",
    "a=np.arange(1000000)\n",
    "b=np.arange(1000000,2000000)\n",
    "start=time.time()\n",
    "c=a+b\n",
    "print(\"numpyarray\"+str(time.time()-start))"
   ]
  },
  {
   "cell_type": "markdown",
   "metadata": {},
   "source": [
    "###### Hence the numpy array is 54 times faster then python list"
   ]
  },
  {
   "cell_type": "markdown",
   "metadata": {},
   "source": [
    "### 2.memory"
   ]
  },
  {
   "cell_type": "code",
   "execution_count": 2,
   "metadata": {},
   "outputs": [
    {
     "data": {
      "text/plain": [
       "8448728"
      ]
     },
     "execution_count": 2,
     "metadata": {},
     "output_type": "execute_result"
    }
   ],
   "source": [
    "## python list\n",
    "a= [i for i in range(1000000)]\n",
    "import sys\n",
    "sys.getsizeof(a)\n"
   ]
  },
  {
   "cell_type": "markdown",
   "metadata": {},
   "source": [
    "###  3.numpy is convinet then python list"
   ]
  }
 ],
 "metadata": {
  "kernelspec": {
   "display_name": "base",
   "language": "python",
   "name": "python3"
  },
  "language_info": {
   "codemirror_mode": {
    "name": "ipython",
    "version": 3
   },
   "file_extension": ".py",
   "mimetype": "text/x-python",
   "name": "python",
   "nbconvert_exporter": "python",
   "pygments_lexer": "ipython3",
   "version": "3.12.4"
  }
 },
 "nbformat": 4,
 "nbformat_minor": 2
}
