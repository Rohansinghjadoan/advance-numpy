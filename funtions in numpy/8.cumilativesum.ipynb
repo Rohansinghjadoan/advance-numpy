{
 "cells": [
  {
   "cell_type": "code",
   "execution_count": 2,
   "metadata": {},
   "outputs": [
    {
     "data": {
      "text/plain": [
       "array([74, 52, 98, 32, 56, 21, 91, 67, 26, 18, 27, 53, 75, 81, 56])"
      ]
     },
     "execution_count": 2,
     "metadata": {},
     "output_type": "execute_result"
    }
   ],
   "source": [
    "## np.cumsum is a function that returns the cumulative sum of the elements along a given axis.\n",
    "import numpy as np\n",
    "a=np.random.randint(1,100,15)\n",
    "a\n"
   ]
  },
  {
   "cell_type": "code",
   "execution_count": 3,
   "metadata": {},
   "outputs": [
    {
     "data": {
      "text/plain": [
       "array([ 74, 126, 224, 256, 312, 333, 424, 491, 517, 535, 562, 615, 690,\n",
       "       771, 827])"
      ]
     },
     "execution_count": 3,
     "metadata": {},
     "output_type": "execute_result"
    }
   ],
   "source": [
    "np.cumsum(a)"
   ]
  },
  {
   "cell_type": "code",
   "execution_count": 4,
   "metadata": {},
   "outputs": [
    {
     "data": {
      "text/plain": [
       "array([[92, 95, 24, 31],\n",
       "       [42, 50, 74, 20],\n",
       "       [25, 90, 46, 31],\n",
       "       [55, 75, 18, 99],\n",
       "       [77, 22, 22,  7],\n",
       "       [ 3, 45, 58, 59]])"
      ]
     },
     "execution_count": 4,
     "metadata": {},
     "output_type": "execute_result"
    }
   ],
   "source": [
    "b=np.random.randint(1,100,24).reshape(6,4)\n",
    "b"
   ]
  },
  {
   "cell_type": "code",
   "execution_count": 5,
   "metadata": {},
   "outputs": [
    {
     "data": {
      "text/plain": [
       "array([[ 92,  95,  24,  31],\n",
       "       [134, 145,  98,  51],\n",
       "       [159, 235, 144,  82],\n",
       "       [214, 310, 162, 181],\n",
       "       [291, 332, 184, 188],\n",
       "       [294, 377, 242, 247]])"
      ]
     },
     "execution_count": 5,
     "metadata": {},
     "output_type": "execute_result"
    }
   ],
   "source": [
    "np.cumsum(b, axis=0)  # Cumulative sum along the first axis (columns)"
   ]
  },
  {
   "cell_type": "code",
   "execution_count": 6,
   "metadata": {},
   "outputs": [
    {
     "data": {
      "text/plain": [
       "array([[ 92, 187, 211, 242],\n",
       "       [ 42,  92, 166, 186],\n",
       "       [ 25, 115, 161, 192],\n",
       "       [ 55, 130, 148, 247],\n",
       "       [ 77,  99, 121, 128],\n",
       "       [  3,  48, 106, 165]])"
      ]
     },
     "execution_count": 6,
     "metadata": {},
     "output_type": "execute_result"
    }
   ],
   "source": [
    "np.cumsum(b, axis=1)  # Cumulative sum along the second axis (rows)"
   ]
  },
  {
   "cell_type": "code",
   "execution_count": 7,
   "metadata": {},
   "outputs": [
    {
     "data": {
      "text/plain": [
       "array([                  74,                 3848,               377104,\n",
       "                   12067328,            675770368,          14191177728,\n",
       "              1291397173248,       86523610607616,     2249613875798016,\n",
       "          40493049764364288,  1093312343637835776,  2605321991676641280,\n",
       "       -7515035435056971776,    24684192800489472,  1382314796827410432])"
      ]
     },
     "execution_count": 7,
     "metadata": {},
     "output_type": "execute_result"
    }
   ],
   "source": [
    "## np.cumprod is a function that returns the cumulative product of the elements along a given axis.\n",
    "np.cumprod(a)"
   ]
  },
  {
   "cell_type": "code",
   "execution_count": null,
   "metadata": {},
   "outputs": [],
   "source": []
  }
 ],
 "metadata": {
  "kernelspec": {
   "display_name": "base",
   "language": "python",
   "name": "python3"
  },
  "language_info": {
   "codemirror_mode": {
    "name": "ipython",
    "version": 3
   },
   "file_extension": ".py",
   "mimetype": "text/x-python",
   "name": "python",
   "nbconvert_exporter": "python",
   "pygments_lexer": "ipython3",
   "version": "3.12.4"
  }
 },
 "nbformat": 4,
 "nbformat_minor": 2
}
