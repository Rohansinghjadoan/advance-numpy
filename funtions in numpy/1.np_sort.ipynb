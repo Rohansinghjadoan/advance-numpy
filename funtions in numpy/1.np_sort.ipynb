{
 "cells": [
  {
   "cell_type": "markdown",
   "metadata": {},
   "source": [
    "## np.sort"
   ]
  },
  {
   "cell_type": "markdown",
   "metadata": {},
   "source": [
    "#### return a sorted copy of an array\n",
    "\n",
    "```python"
   ]
  },
  {
   "cell_type": "code",
   "execution_count": 1,
   "metadata": {},
   "outputs": [
    {
     "data": {
      "text/plain": [
       "array([ 4, 92, 29, 28, 15, 61, 42, 22, 89, 92, 67, 15, 79, 97, 13])"
      ]
     },
     "execution_count": 1,
     "metadata": {},
     "output_type": "execute_result"
    }
   ],
   "source": [
    "## code\n",
    "import numpy as np\n",
    "a=np.random.randint(1,100,15)\n",
    "a"
   ]
  },
  {
   "cell_type": "code",
   "execution_count": 2,
   "metadata": {},
   "outputs": [
    {
     "data": {
      "text/plain": [
       "array([[88, 82,  9, 47],\n",
       "       [30, 81, 49, 27],\n",
       "       [52, 21,  8, 87],\n",
       "       [11, 79, 31, 68],\n",
       "       [98, 64, 49, 17],\n",
       "       [81,  4, 54, 55]])"
      ]
     },
     "execution_count": 2,
     "metadata": {},
     "output_type": "execute_result"
    }
   ],
   "source": [
    "b=np.random.randint(1,100,24).reshape(6,4)\n",
    "b"
   ]
  },
  {
   "cell_type": "code",
   "execution_count": null,
   "metadata": {},
   "outputs": [
    {
     "data": {
      "text/plain": [
       "array([ 4, 13, 15, 15, 22, 28, 29, 42, 61, 67, 79, 89, 92, 92, 97])"
      ]
     },
     "execution_count": 3,
     "metadata": {},
     "output_type": "execute_result"
    }
   ],
   "source": [
    "np.sort(a) ## sort the array a in ascending order"
   ]
  },
  {
   "cell_type": "code",
   "execution_count": 6,
   "metadata": {},
   "outputs": [
    {
     "data": {
      "text/plain": [
       "array([97, 92, 92, 89, 79, 67, 61, 42, 29, 28, 22, 15, 15, 13,  4])"
      ]
     },
     "execution_count": 6,
     "metadata": {},
     "output_type": "execute_result"
    }
   ],
   "source": [
    "## descending order\n",
    "np.sort(a)[::-1] ## sort the array a in descending order"
   ]
  },
  {
   "cell_type": "code",
   "execution_count": null,
   "metadata": {},
   "outputs": [
    {
     "data": {
      "text/plain": [
       "array([[ 9, 47, 82, 88],\n",
       "       [27, 30, 49, 81],\n",
       "       [ 8, 21, 52, 87],\n",
       "       [11, 31, 68, 79],\n",
       "       [17, 49, 64, 98],\n",
       "       [ 4, 54, 55, 81]])"
      ]
     },
     "execution_count": 4,
     "metadata": {},
     "output_type": "execute_result"
    }
   ],
   "source": [
    "np.sort(b)## row wise sort"
   ]
  },
  {
   "cell_type": "code",
   "execution_count": 5,
   "metadata": {},
   "outputs": [
    {
     "data": {
      "text/plain": [
       "array([[11,  4,  8, 17],\n",
       "       [30, 21,  9, 27],\n",
       "       [52, 64, 31, 47],\n",
       "       [81, 79, 49, 55],\n",
       "       [88, 81, 49, 68],\n",
       "       [98, 82, 54, 87]])"
      ]
     },
     "execution_count": 5,
     "metadata": {},
     "output_type": "execute_result"
    }
   ],
   "source": [
    "## column wise sort\n",
    "np.sort(b, axis=0)  ## column wise sort"
   ]
  },
  {
   "cell_type": "code",
   "execution_count": null,
   "metadata": {},
   "outputs": [],
   "source": []
  }
 ],
 "metadata": {
  "kernelspec": {
   "display_name": "base",
   "language": "python",
   "name": "python3"
  },
  "language_info": {
   "codemirror_mode": {
    "name": "ipython",
    "version": 3
   },
   "file_extension": ".py",
   "mimetype": "text/x-python",
   "name": "python",
   "nbconvert_exporter": "python",
   "pygments_lexer": "ipython3",
   "version": "3.12.4"
  }
 },
 "nbformat": 4,
 "nbformat_minor": 2
}
